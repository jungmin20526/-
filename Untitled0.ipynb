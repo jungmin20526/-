{
  "nbformat": 4,
  "nbformat_minor": 0,
  "metadata": {
    "colab": {
      "provenance": [],
      "authorship_tag": "ABX9TyP4WdXpbNowDZztDks93JhD",
      "include_colab_link": true
    },
    "kernelspec": {
      "name": "python3",
      "display_name": "Python 3"
    },
    "language_info": {
      "name": "python"
    }
  },
  "cells": [
    {
      "cell_type": "markdown",
      "metadata": {
        "id": "view-in-github",
        "colab_type": "text"
      },
      "source": [
        "<a href=\"https://colab.research.google.com/github/jungmin20526/S24-Introduction-to-English-Linguistics/blob/main/Untitled0.ipynb\" target=\"_parent\"><img src=\"https://colab.research.google.com/assets/colab-badge.svg\" alt=\"Open In Colab\"/></a>"
      ]
    },
    {
      "cell_type": "markdown",
      "source": [
        "# **Inroduction to English Lingustics**\n",
        "\n",
        "## **Chapter 4. Morphology**\n",
        "\n",
        "\n",
        "### **1. What is a word?**\n"
      ],
      "metadata": {
        "id": "0tdeW1scyOlP"
      }
    }
  ]
}